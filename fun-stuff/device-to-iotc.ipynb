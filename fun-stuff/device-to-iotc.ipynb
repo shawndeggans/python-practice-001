{
 "cells": [
  {
   "cell_type": "markdown",
   "metadata": {},
   "source": [
    "# Andrew's code to get the device to connect to the IOTC\n",
    "This code is based on the device and includes the basics of what Andrew is providing for the translation from the device to what I need for IOTC."
   ]
  },
  {
   "cell_type": "code",
   "execution_count": 1,
   "metadata": {},
   "outputs": [],
   "source": [
    "import base64\n",
    "import json\n",
    "import requests"
   ]
  },
  {
   "cell_type": "code",
   "execution_count": 2,
   "metadata": {},
   "outputs": [],
   "source": [
    "def powerStateToString(state):\n",
    "    return { \n",
    "        0 : 'OFF',\n",
    "        1 : 'ON',\n",
    "        2 : 'ERROR',\n",
    "        3 : 'Reserved' \n",
    "    }[state]"
   ]
  },
  {
   "cell_type": "code",
   "execution_count": 3,
   "metadata": {},
   "outputs": [],
   "source": [
    "def pumpStateToString(state):\n",
    "    return { \n",
    "        0 :' ABSENT',\n",
    "        1 : 'PRESENT',\n",
    "        2 : 'ERROR',\n",
    "        3 : 'Reserved' \n",
    "    }[state]"
   ]
  },
  {
   "cell_type": "code",
   "execution_count": 4,
   "metadata": {},
   "outputs": [],
   "source": [
    "# Create a FluidDevice class\n",
    "class FluidDevice:\n",
    "    def __init__(self, epochTime, powerState, prePumpFluidState, postPumpFluidState, fluidReservoirLevel, fluidFlowRate, batteryLevel):\n",
    "        self.epochTime = epochTime\n",
    "        self.powerState = powerState\n",
    "        self.prePumpFluidState = prePumpFluidState\n",
    "        self.postPumpFluidState = postPumpFluidState\n",
    "        self.fluidReservoirLevel = fluidReservoirLevel\n",
    "        self.fluidFlowRate = fluidFlowRate\n",
    "        self.battteryLevel = batteryLevel\n"
   ]
  },
  {
   "cell_type": "code",
   "execution_count": 5,
   "metadata": {},
   "outputs": [],
   "source": [
    "def extractPumpData(data_from_message, FluidDevice):\n",
    "    my_bytes = bytearray(base64.b64decode(data_from_message))\n",
    "    # Parse out the data bytes into human readable format\n",
    "    FluidDevice.epochTime = (my_bytes[0] << 24) + (my_bytes[1] << 16) + (my_bytes[2] << 8) + my_bytes[3]\n",
    "    FluidDevice.powerState = my_bytes[4] & 0x03\n",
    "    FluidDevice.prePumpFluidState = (my_bytes[4] >> 2) & 0x03\n",
    "    FluidDevice.postPumpFluidState = (my_bytes[4] >> 4) & 0x03\n",
    "    FluidDevice.fluidReservoirLevel = my_bytes[5]\n",
    "    FluidDevice.fluidFlowRate = float(str(my_bytes[6]) + \".\" + str(my_bytes[7]))\n",
    "    FluidDevice.batteryLevel = my_bytes[8]\n",
    "    return FluidDevice\n"
   ]
  },
  {
   "cell_type": "code",
   "execution_count": 6,
   "metadata": {},
   "outputs": [],
   "source": [
    "def createIdentifier(device_id):\n",
    "    my_bytes = bytearray(base64.b64decode(device_id))\n",
    "    bytesAsString = my_bytes.hex(' ')\n",
    "    # remove all spaces from bytesAsString\n",
    "    return bytesAsString.replace(' ', '')"
   ]
  },
  {
   "cell_type": "markdown",
   "metadata": {},
   "source": [
    "# The following is the Bridge code for IoT Central\n",
    "The following code is what we need to take the request from the device and send it to IoT Central."
   ]
  },
  {
   "cell_type": "code",
   "execution_count": 7,
   "metadata": {},
   "outputs": [],
   "source": [
    "iotcJsonObject = json.loads('{\"device\":{\"deviceId\":\"\"},\"measurements\":{\"applicationID\":\"\",\"applicationName\":\"\",\"deviceName\":\"\",\"devEUI\":\"\",\"adr\":false,\"dr\":0,\"fCnt\":0,\"fPort\":0,\"data\":\"\",\"objectJSON\":\"\",\"confirmedUpLink\":false,\"devAddr\":\"\",\"publishedAt\":\"\",\"PowerState\":\"\",\"PrePumpFluidState\":\"\",\"PostPumpFluidState\":\"\",\"FluidReservoirLevel\":\"\",\"FluidFlowRate\":0,\"BatteryLevel\":\"\"}}')\n"
   ]
  },
  {
   "cell_type": "markdown",
   "metadata": {},
   "source": [
    "# The following is the code for the device"
   ]
  },
  {
   "cell_type": "code",
   "execution_count": 8,
   "metadata": {},
   "outputs": [],
   "source": [
    "# loading test data from an actual message. This represents the body of the request message\n",
    "jsonObject = json.loads('{\"applicationID\":\"1\",\"applicationName\":\"SIP-FieldTrial\",\"deviceName\":\"xDot-DevBoard-AJC\",\"devEUI\":\"AIAAAAQBlwY=\",\"rxInfo\":[],\"txInfo\":{\"frequency\":902900000,\"modulation\":\"LORA\",\"loRaModulationInfo\":{\"bandwidth\":125,\"spreadingFactor\":9,\"codeRate\":\"4/5\",\"polarizationInversion\":false}},\"adr\":true,\"dr\":1,\"fCnt\":1956,\"fPort\":1,\"data\":\"YWHbPBVLAw5S\",\"objectJSON\":\"\",\"tags\":{},\"confirmedUplink\":true,\"devAddr\":\"AYjTEQ==\",\"publishedAt\":\"2021-10-09T18:11:10.003751647Z\"}')\n"
   ]
  },
  {
   "cell_type": "markdown",
   "metadata": {},
   "source": [
    "# Extract the device data from the jsonObject"
   ]
  },
  {
   "cell_type": "code",
   "execution_count": 9,
   "metadata": {},
   "outputs": [],
   "source": [
    "#extract the data from the message\n",
    "pumpDevice = extractPumpData(jsonObject['data'], FluidDevice)"
   ]
  },
  {
   "cell_type": "markdown",
   "metadata": {},
   "source": [
    "## Map the SIP pump data to the iot central object\n"
   ]
  },
  {
   "cell_type": "code",
   "execution_count": 10,
   "metadata": {},
   "outputs": [],
   "source": [
    "# create a function that accepts iotcJsonObject, pumpDevice, and jsonObject and maps the data\n",
    "def mapData(iotcJsonObject, pumpDevice, jsonObject):\n",
    "    iotcJsonObject['device']['deviceId'] = createIdentifier(jsonObject['devEUI'])\n",
    "    iotcJsonObject['measurements']['applicationID'] = jsonObject['applicationID']\n",
    "    iotcJsonObject['measurements']['applicationName'] = jsonObject['applicationName']\n",
    "    iotcJsonObject['measurements']['deviceName'] = jsonObject['deviceName']\n",
    "    iotcJsonObject['measurements']['devEUI'] = jsonObject['devEUI']\n",
    "    iotcJsonObject['measurements']['adr'] = jsonObject['adr']\n",
    "    iotcJsonObject['measurements']['dr'] = jsonObject['dr']\n",
    "    iotcJsonObject['measurements']['fCnt'] = jsonObject['fCnt']\n",
    "    iotcJsonObject['measurements']['fPort'] = jsonObject['fPort']\n",
    "    iotcJsonObject['measurements']['data'] = jsonObject['data']\n",
    "    iotcJsonObject['measurements']['objectJSON'] = jsonObject['objectJSON']\n",
    "    iotcJsonObject['measurements']['confirmedUpLink'] = jsonObject['confirmedUplink']\n",
    "    iotcJsonObject['measurements']['devAddr'] = jsonObject['devAddr']\n",
    "    iotcJsonObject['measurements']['publishedAt'] = jsonObject['publishedAt']\n",
    "    iotcJsonObject['measurements']['PowerState'] = pumpDevice.powerState\n",
    "    iotcJsonObject['measurements']['PrePumpFluidState'] = pumpDevice.prePumpFluidState\n",
    "    iotcJsonObject['measurements']['PostPumpFluidState'] = pumpDevice.postPumpFluidState\n",
    "    iotcJsonObject['measurements']['FluidReservoirLevel'] = pumpDevice.fluidReservoirLevel\n",
    "    iotcJsonObject['measurements']['FluidFlowRate'] = pumpDevice.fluidFlowRate\n",
    "    iotcJsonObject['measurements']['BatteryLevel'] = pumpDevice.batteryLevel\n",
    "    return iotcJsonObject\n"
   ]
  },
  {
   "cell_type": "code",
   "execution_count": 18,
   "metadata": {},
   "outputs": [
    {
     "name": "stdout",
     "output_type": "stream",
     "text": [
      "\n"
     ]
    }
   ],
   "source": [
    "# post to IoT Central device bridge\n",
    "# post to https://iotc-fnjvlbniucwg5pg.azurewebsites.net/api/IoTCIntegration?code=3uW4AC5w/Kksna1kwk6g67qR26lWfew4va2k12eCwMLxDbdkjcaa8A==\n",
    "url = \"http://localhost:7071/api/HttpTriggerPumpDeviceToBridge\"\n",
    "x = requests.post(url, json=iotcJsonObject)\n",
    "print(x.text)\n",
    "\n"
   ]
  },
  {
   "cell_type": "markdown",
   "metadata": {},
   "source": [
    "# Creating the HTTP Trigger Function for the device\n",
    "In this next section we want to help create the HTTP Trigger function for the device. For this we need to pass the body value taken from the Chirpstack HTPP hook and build a module in the function that does what this notebook does until we have the above body created for the IoTC Bridge"
   ]
  },
  {
   "cell_type": "code",
   "execution_count": 20,
   "metadata": {},
   "outputs": [
    {
     "name": "stdout",
     "output_type": "stream",
     "text": [
      "<Response [200]>\n"
     ]
    }
   ],
   "source": [
    "testUrl = \"http://localhost:7071/api/HttpTriggerPumpDeviceToBridge\"\n",
    "testChirpStackBody = json.loads('{\"applicationID\":\"1\",\"applicationName\":\"SIP-FieldTrial\",\"deviceName\":\"xDot-DevBoard-AJC\",\"devEUI\":\"AIAAAAQBlwY=\",\"rxInfo\":[],\"txInfo\":{\"frequency\":902900000,\"modulation\":\"LORA\",\"loRaModulationInfo\":{\"bandwidth\":125,\"spreadingFactor\":9,\"codeRate\":\"4/5\",\"polarizationInversion\":false}},\"adr\":true,\"dr\":1,\"fCnt\":1956,\"fPort\":1,\"data\":\"YWHbPBVLAw5S\",\"objectJSON\":\"\",\"tags\":{},\"confirmedUplink\":true,\"devAddr\":\"AYjTEQ==\",\"publishedAt\":\"2021-10-09T18:11:10.003751647Z\"}')\n",
    "x2 = requests.post(testUrl, json=testChirpStackBody)\n",
    "print(x2.text)"
   ]
  }
 ],
 "metadata": {
  "interpreter": {
   "hash": "3ea607751f823b6ca37ab1b761fb679f4253bdd6d13b788318f38d18ae00da3e"
  },
  "kernelspec": {
   "display_name": "Python 3.8.10 64-bit ('CompletePython3Bootcamp': conda)",
   "name": "python3"
  },
  "language_info": {
   "codemirror_mode": {
    "name": "ipython",
    "version": 3
   },
   "file_extension": ".py",
   "mimetype": "text/x-python",
   "name": "python",
   "nbconvert_exporter": "python",
   "pygments_lexer": "ipython3",
   "version": "3.8.10"
  },
  "orig_nbformat": 4
 },
 "nbformat": 4,
 "nbformat_minor": 2
}
